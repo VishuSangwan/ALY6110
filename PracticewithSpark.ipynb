{
  "nbformat": 4,
  "nbformat_minor": 0,
  "metadata": {
    "colab": {
      "provenance": []
    },
    "kernelspec": {
      "name": "python3",
      "display_name": "Python 3"
    },
    "language_info": {
      "name": "python"
    }
  },
  "cells": [
    {
      "cell_type": "code",
      "execution_count": 2,
      "metadata": {
        "id": "YZrWGWid-dWL"
      },
      "outputs": [],
      "source": [
        "# innstall java\n",
        "!apt-get install openjdk-8-jdk-headless -qq > /dev/null\n",
        "\n",
        "# install spark (change the version number if needed)\n",
        "!wget -q https://archive.apache.org/dist/spark/spark-3.0.0/spark-3.0.0-bin-hadoop3.2.tgz\n",
        "\n",
        "# unzip the spark file to the current folder\n",
        "!tar xf spark-3.0.0-bin-hadoop3.2.tgz\n",
        "\n",
        "# set your spark folder to your system path environment. \n",
        "import os\n",
        "os.environ[\"JAVA_HOME\"] = \"/usr/lib/jvm/java-8-openjdk-amd64\"\n",
        "os.environ[\"SPARK_HOME\"] = \"/content/spark-3.0.0-bin-hadoop3.2\"\n",
        "\n",
        "# install findspark using pip\n",
        "!pip install -q findspark\n",
        "     "
      ]
    },
    {
      "cell_type": "code",
      "source": [
        "import pandas as pd"
      ],
      "metadata": {
        "id": "vR4aYENUBkHf"
      },
      "execution_count": 3,
      "outputs": []
    },
    {
      "cell_type": "code",
      "source": [
        "import findspark\n",
        "findspark.init()\n",
        "from pyspark.sql import SparkSession\n",
        "spark = SparkSession.builder.master(\"local[*]\").getOrCreate()\n",
        "     "
      ],
      "metadata": {
        "id": "uYJJaxd7BqU_"
      },
      "execution_count": 4,
      "outputs": []
    },
    {
      "cell_type": "code",
      "source": [
        "df = spark.read.csv(\"insurance.csv\", inferSchema=True,\n",
        "                   header=True)\n"
      ],
      "metadata": {
        "id": "F9NcUnrnBwts"
      },
      "execution_count": 5,
      "outputs": []
    },
    {
      "cell_type": "code",
      "source": [
        "df.show(5)\n"
      ],
      "metadata": {
        "colab": {
          "base_uri": "https://localhost:8080/"
        },
        "id": "iwDUDp5jCB4e",
        "outputId": "47126337-690e-4ad0-9461-5f522c0b018e"
      },
      "execution_count": 6,
      "outputs": [
        {
          "output_type": "stream",
          "name": "stdout",
          "text": [
            "+---+------+------+--------+------+---------+-----------+\n",
            "|age|gender|   bmi|children|smoker|   region|    charges|\n",
            "+---+------+------+--------+------+---------+-----------+\n",
            "| 19|female|  27.9|       0|   yes|southwest|  16884.924|\n",
            "| 18|  male| 33.77|       1|    no|southeast|  1725.5523|\n",
            "| 28|  male|  33.0|       3|    no|southeast|   4449.462|\n",
            "| 33|  male|22.705|       0|    no|northwest|21984.47061|\n",
            "| 32|  male| 28.88|       0|    no|northwest|  3866.8552|\n",
            "+---+------+------+--------+------+---------+-----------+\n",
            "only showing top 5 rows\n",
            "\n"
          ]
        }
      ]
    },
    {
      "cell_type": "code",
      "source": [
        "df.count()"
      ],
      "metadata": {
        "colab": {
          "base_uri": "https://localhost:8080/"
        },
        "id": "kj12MI1eCKPC",
        "outputId": "66f14151-89e8-42f2-a879-dd816bbbc58a"
      },
      "execution_count": 8,
      "outputs": [
        {
          "output_type": "execute_result",
          "data": {
            "text/plain": [
              "1338"
            ]
          },
          "metadata": {},
          "execution_count": 8
        }
      ]
    },
    {
      "cell_type": "code",
      "source": [
        "len(df.columns)\n"
      ],
      "metadata": {
        "colab": {
          "base_uri": "https://localhost:8080/"
        },
        "id": "IGfPm0q-CPuV",
        "outputId": "c3e68c73-6797-4fcb-df59-4446c6ece295"
      },
      "execution_count": 9,
      "outputs": [
        {
          "output_type": "execute_result",
          "data": {
            "text/plain": [
              "7"
            ]
          },
          "metadata": {},
          "execution_count": 9
        }
      ]
    },
    {
      "cell_type": "code",
      "source": [
        "df.printSchema()\n"
      ],
      "metadata": {
        "colab": {
          "base_uri": "https://localhost:8080/"
        },
        "id": "ce-BE6bWCT-8",
        "outputId": "7251d1ca-0a62-4aab-94ab-4a7b1dff9637"
      },
      "execution_count": 10,
      "outputs": [
        {
          "output_type": "stream",
          "name": "stdout",
          "text": [
            "root\n",
            " |-- age: integer (nullable = true)\n",
            " |-- gender: string (nullable = true)\n",
            " |-- bmi: double (nullable = true)\n",
            " |-- children: integer (nullable = true)\n",
            " |-- smoker: string (nullable = true)\n",
            " |-- region: string (nullable = true)\n",
            " |-- charges: double (nullable = true)\n",
            "\n"
          ]
        }
      ]
    },
    {
      "cell_type": "code",
      "source": [
        "df.describe().show()\n"
      ],
      "metadata": {
        "colab": {
          "base_uri": "https://localhost:8080/"
        },
        "id": "jDopXlpICbrK",
        "outputId": "3b5ad2f0-6d3d-47bd-876b-532e9c144177"
      },
      "execution_count": 11,
      "outputs": [
        {
          "output_type": "stream",
          "name": "stdout",
          "text": [
            "+-------+------------------+------+------------------+-----------------+------+---------+------------------+\n",
            "|summary|               age|gender|               bmi|         children|smoker|   region|           charges|\n",
            "+-------+------------------+------+------------------+-----------------+------+---------+------------------+\n",
            "|  count|              1338|  1338|              1338|             1338|  1338|     1338|              1338|\n",
            "|   mean| 39.20702541106129|  null|30.663396860986538|  1.0949177877429|  null|     null|13270.422265141257|\n",
            "| stddev|14.049960379216147|  null| 6.098186911679012|1.205492739781914|  null|     null|12110.011236693992|\n",
            "|    min|                18|female|             15.96|                0|    no|northeast|         1121.8739|\n",
            "|    max|                64|  male|             53.13|                5|   yes|southwest|       63770.42801|\n",
            "+-------+------------------+------+------------------+-----------------+------+---------+------------------+\n",
            "\n"
          ]
        }
      ]
    },
    {
      "cell_type": "code",
      "source": [
        "df.head(5)"
      ],
      "metadata": {
        "colab": {
          "base_uri": "https://localhost:8080/"
        },
        "id": "barU91kaCfNc",
        "outputId": "dfc81ecf-9201-40ae-99d9-6a1f5c795009"
      },
      "execution_count": 12,
      "outputs": [
        {
          "output_type": "execute_result",
          "data": {
            "text/plain": [
              "[Row(age=19, gender='female', bmi=27.9, children=0, smoker='yes', region='southwest', charges=16884.924),\n",
              " Row(age=18, gender='male', bmi=33.77, children=1, smoker='no', region='southeast', charges=1725.5523),\n",
              " Row(age=28, gender='male', bmi=33.0, children=3, smoker='no', region='southeast', charges=4449.462),\n",
              " Row(age=33, gender='male', bmi=22.705, children=0, smoker='no', region='northwest', charges=21984.47061),\n",
              " Row(age=32, gender='male', bmi=28.88, children=0, smoker='no', region='northwest', charges=3866.8552)]"
            ]
          },
          "metadata": {},
          "execution_count": 12
        }
      ]
    },
    {
      "cell_type": "code",
      "source": [
        "df.corr('age', 'charges')"
      ],
      "metadata": {
        "colab": {
          "base_uri": "https://localhost:8080/"
        },
        "id": "FXF_XVf6Cnuw",
        "outputId": "338ef97d-df89-4c6b-c34d-bdeb155852fb"
      },
      "execution_count": 13,
      "outputs": [
        {
          "output_type": "execute_result",
          "data": {
            "text/plain": [
              "0.299008193330648"
            ]
          },
          "metadata": {},
          "execution_count": 13
        }
      ]
    },
    {
      "cell_type": "code",
      "source": [
        "df.corr('bmi', 'charges')"
      ],
      "metadata": {
        "colab": {
          "base_uri": "https://localhost:8080/"
        },
        "id": "9I4rddJXCpDr",
        "outputId": "26dc2100-89a9-4a51-8d78-c8a7a9eb23d4"
      },
      "execution_count": 14,
      "outputs": [
        {
          "output_type": "execute_result",
          "data": {
            "text/plain": [
              "0.19834096883362903"
            ]
          },
          "metadata": {},
          "execution_count": 14
        }
      ]
    },
    {
      "cell_type": "code",
      "source": [
        "df.columns"
      ],
      "metadata": {
        "colab": {
          "base_uri": "https://localhost:8080/"
        },
        "id": "4yK8bjb1CvsQ",
        "outputId": "93ed696c-372f-4d4a-e61d-1e075d16f090"
      },
      "execution_count": 15,
      "outputs": [
        {
          "output_type": "execute_result",
          "data": {
            "text/plain": [
              "['age', 'gender', 'bmi', 'children', 'smoker', 'region', 'charges']"
            ]
          },
          "metadata": {},
          "execution_count": 15
        }
      ]
    },
    {
      "cell_type": "code",
      "source": [
        "from pyspark.ml.feature import StringIndexer"
      ],
      "metadata": {
        "id": "HRbGCT1sCzfK"
      },
      "execution_count": 16,
      "outputs": []
    },
    {
      "cell_type": "code",
      "source": [
        "indexer=StringIndexer(inputCol= \"gender\",outputCol='gender_cat')\n",
        "indexed=indexer.fit(df).transform(df)"
      ],
      "metadata": {
        "id": "5uy80i7nC07A"
      },
      "execution_count": 17,
      "outputs": []
    },
    {
      "cell_type": "code",
      "source": [
        "indexer=StringIndexer(inputCol= \"smoker\",outputCol='smoker_cat')\n",
        "indexed=indexer.fit(indexed).transform(indexed)"
      ],
      "metadata": {
        "id": "Mgtdmse_C2za"
      },
      "execution_count": 18,
      "outputs": []
    },
    {
      "cell_type": "code",
      "source": [
        "indexer=StringIndexer(inputCol= \"region\",outputCol='region_cat')\n",
        "indexed=indexer.fit(indexed).transform(indexed)"
      ],
      "metadata": {
        "id": "mhXoJ7iJC-qZ"
      },
      "execution_count": 19,
      "outputs": []
    },
    {
      "cell_type": "code",
      "source": [
        "indexed.show()"
      ],
      "metadata": {
        "colab": {
          "base_uri": "https://localhost:8080/"
        },
        "id": "m-IyJX6zDCjc",
        "outputId": "1da5dfaf-1efd-429c-b93d-d822f51332f5"
      },
      "execution_count": 20,
      "outputs": [
        {
          "output_type": "stream",
          "name": "stdout",
          "text": [
            "+---+------+------+--------+------+---------+-----------+----------+----------+----------+\n",
            "|age|gender|   bmi|children|smoker|   region|    charges|gender_cat|smoker_cat|region_cat|\n",
            "+---+------+------+--------+------+---------+-----------+----------+----------+----------+\n",
            "| 19|female|  27.9|       0|   yes|southwest|  16884.924|       1.0|       1.0|       2.0|\n",
            "| 18|  male| 33.77|       1|    no|southeast|  1725.5523|       0.0|       0.0|       0.0|\n",
            "| 28|  male|  33.0|       3|    no|southeast|   4449.462|       0.0|       0.0|       0.0|\n",
            "| 33|  male|22.705|       0|    no|northwest|21984.47061|       0.0|       0.0|       1.0|\n",
            "| 32|  male| 28.88|       0|    no|northwest|  3866.8552|       0.0|       0.0|       1.0|\n",
            "| 31|female| 25.74|       0|    no|southeast|  3756.6216|       1.0|       0.0|       0.0|\n",
            "| 46|female| 33.44|       1|    no|southeast|  8240.5896|       1.0|       0.0|       0.0|\n",
            "| 37|female| 27.74|       3|    no|northwest|  7281.5056|       1.0|       0.0|       1.0|\n",
            "| 37|  male| 29.83|       2|    no|northeast|  6406.4107|       0.0|       0.0|       3.0|\n",
            "| 60|female| 25.84|       0|    no|northwest|28923.13692|       1.0|       0.0|       1.0|\n",
            "| 25|  male| 26.22|       0|    no|northeast|  2721.3208|       0.0|       0.0|       3.0|\n",
            "| 62|female| 26.29|       0|   yes|southeast| 27808.7251|       1.0|       1.0|       0.0|\n",
            "| 23|  male|  34.4|       0|    no|southwest|   1826.843|       0.0|       0.0|       2.0|\n",
            "| 56|female| 39.82|       0|    no|southeast| 11090.7178|       1.0|       0.0|       0.0|\n",
            "| 27|  male| 42.13|       0|   yes|southeast| 39611.7577|       0.0|       1.0|       0.0|\n",
            "| 19|  male|  24.6|       1|    no|southwest|   1837.237|       0.0|       0.0|       2.0|\n",
            "| 52|female| 30.78|       1|    no|northeast| 10797.3362|       1.0|       0.0|       3.0|\n",
            "| 23|  male|23.845|       0|    no|northeast| 2395.17155|       0.0|       0.0|       3.0|\n",
            "| 56|  male|  40.3|       0|    no|southwest|  10602.385|       0.0|       0.0|       2.0|\n",
            "| 30|  male|  35.3|       0|   yes|southwest|  36837.467|       0.0|       1.0|       2.0|\n",
            "+---+------+------+--------+------+---------+-----------+----------+----------+----------+\n",
            "only showing top 20 rows\n",
            "\n"
          ]
        }
      ]
    },
    {
      "cell_type": "code",
      "source": [
        "from pyspark.ml.linalg import Vector\n",
        "from pyspark.ml.feature import VectorAssembler\n"
      ],
      "metadata": {
        "id": "xx3AfuLBDU-m"
      },
      "execution_count": 21,
      "outputs": []
    },
    {
      "cell_type": "code",
      "source": [
        "indexed.columns"
      ],
      "metadata": {
        "colab": {
          "base_uri": "https://localhost:8080/"
        },
        "id": "t89A6u2bDYX9",
        "outputId": "78395bfc-04fe-446c-99cd-9db52db089b6"
      },
      "execution_count": 22,
      "outputs": [
        {
          "output_type": "execute_result",
          "data": {
            "text/plain": [
              "['age',\n",
              " 'gender',\n",
              " 'bmi',\n",
              " 'children',\n",
              " 'smoker',\n",
              " 'region',\n",
              " 'charges',\n",
              " 'gender_cat',\n",
              " 'smoker_cat',\n",
              " 'region_cat']"
            ]
          },
          "metadata": {},
          "execution_count": 22
        }
      ]
    },
    {
      "cell_type": "code",
      "source": [
        "assembler= VectorAssembler(inputCols=['age',\n",
        " 'bmi',\n",
        " 'children',\n",
        " 'gender_cat',\n",
        " 'smoker_cat',\n",
        " 'region_cat'],outputCol='features')"
      ],
      "metadata": {
        "id": "X_3AT4AKDbl_"
      },
      "execution_count": 23,
      "outputs": []
    },
    {
      "cell_type": "code",
      "source": [
        "assembler"
      ],
      "metadata": {
        "colab": {
          "base_uri": "https://localhost:8080/"
        },
        "id": "WBs45F3vDeL3",
        "outputId": "a0a02d18-11c7-468a-be23-f83b21da5e2f"
      },
      "execution_count": 24,
      "outputs": [
        {
          "output_type": "execute_result",
          "data": {
            "text/plain": [
              "VectorAssembler_8f15db0e99ce"
            ]
          },
          "metadata": {},
          "execution_count": 24
        }
      ]
    },
    {
      "cell_type": "code",
      "source": [
        "output= assembler.transform(indexed)"
      ],
      "metadata": {
        "id": "OL1ex3aYDfcP"
      },
      "execution_count": 25,
      "outputs": []
    },
    {
      "cell_type": "code",
      "source": [
        "output"
      ],
      "metadata": {
        "colab": {
          "base_uri": "https://localhost:8080/"
        },
        "id": "QA6fwzqFDkSY",
        "outputId": "68754af2-b771-4e84-dda3-90753a60e332"
      },
      "execution_count": 26,
      "outputs": [
        {
          "output_type": "execute_result",
          "data": {
            "text/plain": [
              "DataFrame[age: int, gender: string, bmi: double, children: int, smoker: string, region: string, charges: double, gender_cat: double, smoker_cat: double, region_cat: double, features: vector]"
            ]
          },
          "metadata": {},
          "execution_count": 26
        }
      ]
    },
    {
      "cell_type": "code",
      "source": [
        "output.show()"
      ],
      "metadata": {
        "colab": {
          "base_uri": "https://localhost:8080/"
        },
        "id": "RmyfBJr4DoOg",
        "outputId": "fcde2f17-25b7-4498-94a6-3e7bafde59c7"
      },
      "execution_count": 27,
      "outputs": [
        {
          "output_type": "stream",
          "name": "stdout",
          "text": [
            "+---+------+------+--------+------+---------+-----------+----------+----------+----------+--------------------+\n",
            "|age|gender|   bmi|children|smoker|   region|    charges|gender_cat|smoker_cat|region_cat|            features|\n",
            "+---+------+------+--------+------+---------+-----------+----------+----------+----------+--------------------+\n",
            "| 19|female|  27.9|       0|   yes|southwest|  16884.924|       1.0|       1.0|       2.0|[19.0,27.9,0.0,1....|\n",
            "| 18|  male| 33.77|       1|    no|southeast|  1725.5523|       0.0|       0.0|       0.0|[18.0,33.77,1.0,0...|\n",
            "| 28|  male|  33.0|       3|    no|southeast|   4449.462|       0.0|       0.0|       0.0|[28.0,33.0,3.0,0....|\n",
            "| 33|  male|22.705|       0|    no|northwest|21984.47061|       0.0|       0.0|       1.0|[33.0,22.705,0.0,...|\n",
            "| 32|  male| 28.88|       0|    no|northwest|  3866.8552|       0.0|       0.0|       1.0|[32.0,28.88,0.0,0...|\n",
            "| 31|female| 25.74|       0|    no|southeast|  3756.6216|       1.0|       0.0|       0.0|[31.0,25.74,0.0,1...|\n",
            "| 46|female| 33.44|       1|    no|southeast|  8240.5896|       1.0|       0.0|       0.0|[46.0,33.44,1.0,1...|\n",
            "| 37|female| 27.74|       3|    no|northwest|  7281.5056|       1.0|       0.0|       1.0|[37.0,27.74,3.0,1...|\n",
            "| 37|  male| 29.83|       2|    no|northeast|  6406.4107|       0.0|       0.0|       3.0|[37.0,29.83,2.0,0...|\n",
            "| 60|female| 25.84|       0|    no|northwest|28923.13692|       1.0|       0.0|       1.0|[60.0,25.84,0.0,1...|\n",
            "| 25|  male| 26.22|       0|    no|northeast|  2721.3208|       0.0|       0.0|       3.0|[25.0,26.22,0.0,0...|\n",
            "| 62|female| 26.29|       0|   yes|southeast| 27808.7251|       1.0|       1.0|       0.0|[62.0,26.29,0.0,1...|\n",
            "| 23|  male|  34.4|       0|    no|southwest|   1826.843|       0.0|       0.0|       2.0|[23.0,34.4,0.0,0....|\n",
            "| 56|female| 39.82|       0|    no|southeast| 11090.7178|       1.0|       0.0|       0.0|[56.0,39.82,0.0,1...|\n",
            "| 27|  male| 42.13|       0|   yes|southeast| 39611.7577|       0.0|       1.0|       0.0|[27.0,42.13,0.0,0...|\n",
            "| 19|  male|  24.6|       1|    no|southwest|   1837.237|       0.0|       0.0|       2.0|[19.0,24.6,1.0,0....|\n",
            "| 52|female| 30.78|       1|    no|northeast| 10797.3362|       1.0|       0.0|       3.0|[52.0,30.78,1.0,1...|\n",
            "| 23|  male|23.845|       0|    no|northeast| 2395.17155|       0.0|       0.0|       3.0|[23.0,23.845,0.0,...|\n",
            "| 56|  male|  40.3|       0|    no|southwest|  10602.385|       0.0|       0.0|       2.0|[56.0,40.3,0.0,0....|\n",
            "| 30|  male|  35.3|       0|   yes|southwest|  36837.467|       0.0|       1.0|       2.0|[30.0,35.3,0.0,0....|\n",
            "+---+------+------+--------+------+---------+-----------+----------+----------+----------+--------------------+\n",
            "only showing top 20 rows\n",
            "\n"
          ]
        }
      ]
    },
    {
      "cell_type": "code",
      "source": [
        "output.select('features','charges').show(5)"
      ],
      "metadata": {
        "colab": {
          "base_uri": "https://localhost:8080/"
        },
        "id": "5leub1oKDwzC",
        "outputId": "a096d021-4046-49e1-8be2-85fea099e64d"
      },
      "execution_count": 28,
      "outputs": [
        {
          "output_type": "stream",
          "name": "stdout",
          "text": [
            "+--------------------+-----------+\n",
            "|            features|    charges|\n",
            "+--------------------+-----------+\n",
            "|[19.0,27.9,0.0,1....|  16884.924|\n",
            "|[18.0,33.77,1.0,0...|  1725.5523|\n",
            "|[28.0,33.0,3.0,0....|   4449.462|\n",
            "|[33.0,22.705,0.0,...|21984.47061|\n",
            "|[32.0,28.88,0.0,0...|  3866.8552|\n",
            "+--------------------+-----------+\n",
            "only showing top 5 rows\n",
            "\n"
          ]
        }
      ]
    },
    {
      "cell_type": "code",
      "source": [
        "#final data consist of features and label which is crew.\n",
        "final_data=output.select('features','charges')\n"
      ],
      "metadata": {
        "id": "UXMKJo1_D6lk"
      },
      "execution_count": 29,
      "outputs": []
    },
    {
      "cell_type": "code",
      "source": [
        "#splitting data into train and test\n",
        "train_data,test_data=final_data.randomSplit([0.7,0.3])"
      ],
      "metadata": {
        "id": "XykSXumpEthO"
      },
      "execution_count": 31,
      "outputs": []
    },
    {
      "cell_type": "code",
      "source": [
        "train_data.describe().show()"
      ],
      "metadata": {
        "colab": {
          "base_uri": "https://localhost:8080/"
        },
        "id": "zm9rh7XtFEZp",
        "outputId": "6fed24f8-c428-4559-f478-d12892271086"
      },
      "execution_count": 32,
      "outputs": [
        {
          "output_type": "stream",
          "name": "stdout",
          "text": [
            "+-------+-----------------+\n",
            "|summary|          charges|\n",
            "+-------+-----------------+\n",
            "|  count|              921|\n",
            "|   mean|13193.85903837024|\n",
            "| stddev|12214.06918763569|\n",
            "|    min|        1121.8739|\n",
            "|    max|      63770.42801|\n",
            "+-------+-----------------+\n",
            "\n"
          ]
        }
      ]
    },
    {
      "cell_type": "code",
      "source": [
        "test_data.describe().show()"
      ],
      "metadata": {
        "colab": {
          "base_uri": "https://localhost:8080/"
        },
        "id": "PLOR0js_FHhw",
        "outputId": "043fe8e7-1b90-4f75-8512-b9039093703e"
      },
      "execution_count": 33,
      "outputs": [
        {
          "output_type": "stream",
          "name": "stdout",
          "text": [
            "+-------+------------------+\n",
            "|summary|           charges|\n",
            "+-------+------------------+\n",
            "|  count|               417|\n",
            "|   mean|13439.522341534763|\n",
            "| stddev|11889.726845508414|\n",
            "|    min|         1136.3994|\n",
            "|    max|       52590.82939|\n",
            "+-------+------------------+\n",
            "\n"
          ]
        }
      ]
    },
    {
      "cell_type": "code",
      "source": [
        "test_data.show(5)"
      ],
      "metadata": {
        "colab": {
          "base_uri": "https://localhost:8080/"
        },
        "id": "LJTJXtGZrQL7",
        "outputId": "9e1253e6-7ebc-4ab0-bc05-2503f4697bdd"
      },
      "execution_count": 68,
      "outputs": [
        {
          "output_type": "stream",
          "name": "stdout",
          "text": [
            "+--------------------+-----------+\n",
            "|            features|    charges|\n",
            "+--------------------+-----------+\n",
            "|(6,[0,1],[18.0,33...|  1136.3994|\n",
            "|(6,[0,1],[18.0,34...|  1137.4697|\n",
            "|(6,[0,1],[21.0,31...|16586.49771|\n",
            "|(6,[0,1],[21.0,36...|  1534.3045|\n",
            "|(6,[0,1],[22.0,33...|  1674.6323|\n",
            "+--------------------+-----------+\n",
            "only showing top 5 rows\n",
            "\n"
          ]
        }
      ]
    },
    {
      "cell_type": "code",
      "source": [
        "#import LinearRegression library\n",
        "from pyspark.ml.regression import LinearRegression"
      ],
      "metadata": {
        "id": "nFG9tpwiFLKG"
      },
      "execution_count": 34,
      "outputs": []
    },
    {
      "cell_type": "code",
      "source": [
        "#creating an object of class LinearRegression\n",
        "#object takes features and label as input arguments\n",
        "lr=LinearRegression(featuresCol='features',labelCol='charges')"
      ],
      "metadata": {
        "id": "EWUlU9PpFP4C"
      },
      "execution_count": 53,
      "outputs": []
    },
    {
      "cell_type": "code",
      "source": [
        "#pass train_data to train model\n",
        "trained_model = lr.fit(train_data)"
      ],
      "metadata": {
        "id": "KmMjpTL6FSqb"
      },
      "execution_count": 54,
      "outputs": []
    },
    {
      "cell_type": "code",
      "source": [
        "trained_model"
      ],
      "metadata": {
        "colab": {
          "base_uri": "https://localhost:8080/"
        },
        "id": "gb0YJL_9lVfG",
        "outputId": "6ccc7375-6fc7-4ca9-833a-4048873390ef"
      },
      "execution_count": 55,
      "outputs": [
        {
          "output_type": "execute_result",
          "data": {
            "text/plain": [
              "LinearRegressionModel: uid=LinearRegression_a679b3886331, numFeatures=6"
            ]
          },
          "metadata": {},
          "execution_count": 55
        }
      ]
    },
    {
      "cell_type": "code",
      "source": [
        "#evaluating model trained for Rsquared error\n",
        "results = trained_model.evaluate(train_data)"
      ],
      "metadata": {
        "id": "ThHq2MLCFWyL"
      },
      "execution_count": 56,
      "outputs": []
    },
    {
      "cell_type": "code",
      "source": [
        "print('Rsquared Error :',results.r2)"
      ],
      "metadata": {
        "colab": {
          "base_uri": "https://localhost:8080/"
        },
        "id": "QQi7PUqeFZ1W",
        "outputId": "3c44dafa-5d89-4c5d-ad7a-56dd864fd13f"
      },
      "execution_count": 57,
      "outputs": [
        {
          "output_type": "stream",
          "name": "stdout",
          "text": [
            "Rsquared Error : 0.7527121515764923\n"
          ]
        }
      ]
    },
    {
      "cell_type": "code",
      "source": [
        "print(results.meanSquaredError)"
      ],
      "metadata": {
        "colab": {
          "base_uri": "https://localhost:8080/"
        },
        "id": "n1FowSJtFdNl",
        "outputId": "5a5efd5b-1521-41c2-a72c-66858ac9286e"
      },
      "execution_count": 58,
      "outputs": [
        {
          "output_type": "stream",
          "name": "stdout",
          "text": [
            "36851207.642538935\n"
          ]
        }
      ]
    },
    {
      "cell_type": "code",
      "source": [
        "print(results.rootMeanSquaredError)"
      ],
      "metadata": {
        "colab": {
          "base_uri": "https://localhost:8080/"
        },
        "id": "I4mdpTOfl4TP",
        "outputId": "ed8a1b38-0594-4d72-9044-989804b2a681"
      },
      "execution_count": 59,
      "outputs": [
        {
          "output_type": "stream",
          "name": "stdout",
          "text": [
            "6070.519552932758\n"
          ]
        }
      ]
    },
    {
      "cell_type": "code",
      "source": [
        "print(results.meanAbsoluteError)"
      ],
      "metadata": {
        "colab": {
          "base_uri": "https://localhost:8080/"
        },
        "id": "_7XTNfbymQ5O",
        "outputId": "a734e07a-9bfe-44cb-b901-b1576648a8ec"
      },
      "execution_count": 60,
      "outputs": [
        {
          "output_type": "stream",
          "name": "stdout",
          "text": [
            "4073.636494051271\n"
          ]
        }
      ]
    },
    {
      "cell_type": "code",
      "source": [
        "#testing Model on unlabeled data from the test data\n",
        "#create unlabeled data from test_data\n",
        "#testing model on unlabeled data\n",
        "unlabeled_data=test_data.select('features')\n",
        "unlabeled_data.show(5)\n"
      ],
      "metadata": {
        "colab": {
          "base_uri": "https://localhost:8080/"
        },
        "id": "c4-EN0LVFiBn",
        "outputId": "916ef956-149b-4976-9ba4-8f01204a1f9c"
      },
      "execution_count": 61,
      "outputs": [
        {
          "output_type": "stream",
          "name": "stdout",
          "text": [
            "+--------------------+\n",
            "|            features|\n",
            "+--------------------+\n",
            "|(6,[0,1],[18.0,33...|\n",
            "|(6,[0,1],[18.0,34...|\n",
            "|(6,[0,1],[21.0,31...|\n",
            "|(6,[0,1],[21.0,36...|\n",
            "|(6,[0,1],[22.0,33...|\n",
            "+--------------------+\n",
            "only showing top 5 rows\n",
            "\n"
          ]
        }
      ]
    },
    {
      "cell_type": "code",
      "source": [
        "predictions=trained_model.transform(unlabeled_data)\n",
        "predictions.show()\n"
      ],
      "metadata": {
        "colab": {
          "base_uri": "https://localhost:8080/"
        },
        "id": "VPXYXlgGFlij",
        "outputId": "afc97adb-ad3f-48eb-c76a-9159464f82e7"
      },
      "execution_count": 62,
      "outputs": [
        {
          "output_type": "stream",
          "name": "stdout",
          "text": [
            "+--------------------+------------------+\n",
            "|            features|        prediction|\n",
            "+--------------------+------------------+\n",
            "|(6,[0,1],[18.0,33...| 2936.534998771416|\n",
            "|(6,[0,1],[18.0,34...|3176.3432892221554|\n",
            "|(6,[0,1],[21.0,31...| 2882.802282623221|\n",
            "|(6,[0,1],[21.0,36...| 4698.493624607387|\n",
            "|(6,[0,1],[22.0,33...|3995.4161750796884|\n",
            "|(6,[0,1],[23.0,41...| 6786.688100691323|\n",
            "|(6,[0,1],[24.0,32...|3959.5943643142236|\n",
            "|(6,[0,1],[24.0,35...| 5158.635816567918|\n",
            "|(6,[0,1],[25.0,25...| 2263.025425776321|\n",
            "|(6,[0,1],[28.0,38...| 6868.425209813906|\n",
            "|(6,[0,1],[33.0,30...| 5716.862539475549|\n",
            "|(6,[0,1],[34.0,34...| 7206.318031211746|\n",
            "|(6,[0,1],[40.0,41...|11072.818554956166|\n",
            "|(6,[0,1],[41.0,33...| 8793.858053895043|\n",
            "|(6,[0,1],[49.0,35...|11562.528623449301|\n",
            "|(6,[0,1],[49.0,36...|11870.853568314536|\n",
            "|(6,[0,1],[52.0,34...|11782.862524959097|\n",
            "|(6,[0,1],[53.0,31...|11182.560057053144|\n",
            "|(6,[0,1],[55.0,33...|12208.746389712376|\n",
            "|(6,[0,1],[58.0,36...|13936.446688341099|\n",
            "+--------------------+------------------+\n",
            "only showing top 20 rows\n",
            "\n"
          ]
        }
      ]
    },
    {
      "cell_type": "code",
      "source": [
        "# Get summary of the model\n",
        "summary = trained_model.summary\n",
        "print('R2 score:', summary.r2)\n",
        "print('MAE score:', summary.meanAbsoluteError)\n",
        "print('MSE score:', summary.meanSquaredError)"
      ],
      "metadata": {
        "colab": {
          "base_uri": "https://localhost:8080/"
        },
        "id": "S8FtW4dZF4CG",
        "outputId": "8f7afc85-d25a-4392-ad34-acb7fba3fe9e"
      },
      "execution_count": 65,
      "outputs": [
        {
          "output_type": "stream",
          "name": "stdout",
          "text": [
            "R2 score: 0.7527121515764923\n",
            "MAE score: 4073.636494051271\n",
            "MSE score: 36851207.642538935\n"
          ]
        }
      ]
    }
  ]
}