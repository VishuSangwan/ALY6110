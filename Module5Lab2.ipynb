{
  "nbformat": 4,
  "nbformat_minor": 0,
  "metadata": {
    "colab": {
      "provenance": []
    },
    "kernelspec": {
      "name": "python3",
      "display_name": "Python 3"
    },
    "language_info": {
      "name": "python"
    }
  },
  "cells": [
    {
      "cell_type": "code",
      "execution_count": 1,
      "metadata": {
        "id": "T_WbmdqJBxDi"
      },
      "outputs": [],
      "source": [
        "import pandas as pd"
      ]
    },
    {
      "cell_type": "code",
      "source": [
        "!apt-get install openjdk-8-jdk-headless -qq > /dev/null"
      ],
      "metadata": {
        "id": "897Lx6GQB0g7"
      },
      "execution_count": 2,
      "outputs": []
    },
    {
      "cell_type": "code",
      "source": [
        "!wget -q https://archive.apache.org/dist/spark/spark-3.0.0/spark-3.0.0-bin-hadoop3.2.tgz"
      ],
      "metadata": {
        "id": "yGWt6VTnCwWM"
      },
      "execution_count": 3,
      "outputs": []
    },
    {
      "cell_type": "code",
      "source": [
        "!tar xf spark-3.0.0-bin-hadoop3.2.tgz"
      ],
      "metadata": {
        "id": "AzmUMK1VC3Hy"
      },
      "execution_count": 4,
      "outputs": []
    },
    {
      "cell_type": "code",
      "source": [
        "import os\n",
        "os.environ[\"JAVA_HOME\"] = \"/usr/lib/jvm/java-8-openjdk-amd64\"\n",
        "os.environ[\"SPARK_HOME\"] = \"/content/spark-3.0.0-bin-hadoop3.2\""
      ],
      "metadata": {
        "id": "bA3y_zs0C7Zn"
      },
      "execution_count": 5,
      "outputs": []
    },
    {
      "cell_type": "code",
      "source": [
        "!pip install -q findspark\n",
        "import findspark\n",
        "findspark.init()\n",
        "from pyspark.sql import SparkSession\n",
        "spark = SparkSession.builder.master(\"local[*]\").getOrCreate()\n",
        "\n",
        "from google.colab import files\n",
        "files.upload()\n",
        "\n",
        "df = spark.read.csv('BostonHousing.csv',inferSchema=True, header=True)\n",
        "\n",
        "from pyspark.ml.feature import VectorAssembler\n",
        "\n",
        "df.columns\n"
      ],
      "metadata": {
        "colab": {
          "base_uri": "https://localhost:8080/",
          "height": 317
        },
        "id": "yJX3fiD2DAsw",
        "outputId": "7a17ab20-8cef-4107-e2b8-031dd73942d0"
      },
      "execution_count": 7,
      "outputs": [
        {
          "output_type": "display_data",
          "data": {
            "text/plain": [
              "<IPython.core.display.HTML object>"
            ],
            "text/html": [
              "\n",
              "     <input type=\"file\" id=\"files-449c5ed4-a027-439a-b453-970255feb95b\" name=\"files[]\" multiple disabled\n",
              "        style=\"border:none\" />\n",
              "     <output id=\"result-449c5ed4-a027-439a-b453-970255feb95b\">\n",
              "      Upload widget is only available when the cell has been executed in the\n",
              "      current browser session. Please rerun this cell to enable.\n",
              "      </output>\n",
              "      <script>// Copyright 2017 Google LLC\n",
              "//\n",
              "// Licensed under the Apache License, Version 2.0 (the \"License\");\n",
              "// you may not use this file except in compliance with the License.\n",
              "// You may obtain a copy of the License at\n",
              "//\n",
              "//      http://www.apache.org/licenses/LICENSE-2.0\n",
              "//\n",
              "// Unless required by applicable law or agreed to in writing, software\n",
              "// distributed under the License is distributed on an \"AS IS\" BASIS,\n",
              "// WITHOUT WARRANTIES OR CONDITIONS OF ANY KIND, either express or implied.\n",
              "// See the License for the specific language governing permissions and\n",
              "// limitations under the License.\n",
              "\n",
              "/**\n",
              " * @fileoverview Helpers for google.colab Python module.\n",
              " */\n",
              "(function(scope) {\n",
              "function span(text, styleAttributes = {}) {\n",
              "  const element = document.createElement('span');\n",
              "  element.textContent = text;\n",
              "  for (const key of Object.keys(styleAttributes)) {\n",
              "    element.style[key] = styleAttributes[key];\n",
              "  }\n",
              "  return element;\n",
              "}\n",
              "\n",
              "// Max number of bytes which will be uploaded at a time.\n",
              "const MAX_PAYLOAD_SIZE = 100 * 1024;\n",
              "\n",
              "function _uploadFiles(inputId, outputId) {\n",
              "  const steps = uploadFilesStep(inputId, outputId);\n",
              "  const outputElement = document.getElementById(outputId);\n",
              "  // Cache steps on the outputElement to make it available for the next call\n",
              "  // to uploadFilesContinue from Python.\n",
              "  outputElement.steps = steps;\n",
              "\n",
              "  return _uploadFilesContinue(outputId);\n",
              "}\n",
              "\n",
              "// This is roughly an async generator (not supported in the browser yet),\n",
              "// where there are multiple asynchronous steps and the Python side is going\n",
              "// to poll for completion of each step.\n",
              "// This uses a Promise to block the python side on completion of each step,\n",
              "// then passes the result of the previous step as the input to the next step.\n",
              "function _uploadFilesContinue(outputId) {\n",
              "  const outputElement = document.getElementById(outputId);\n",
              "  const steps = outputElement.steps;\n",
              "\n",
              "  const next = steps.next(outputElement.lastPromiseValue);\n",
              "  return Promise.resolve(next.value.promise).then((value) => {\n",
              "    // Cache the last promise value to make it available to the next\n",
              "    // step of the generator.\n",
              "    outputElement.lastPromiseValue = value;\n",
              "    return next.value.response;\n",
              "  });\n",
              "}\n",
              "\n",
              "/**\n",
              " * Generator function which is called between each async step of the upload\n",
              " * process.\n",
              " * @param {string} inputId Element ID of the input file picker element.\n",
              " * @param {string} outputId Element ID of the output display.\n",
              " * @return {!Iterable<!Object>} Iterable of next steps.\n",
              " */\n",
              "function* uploadFilesStep(inputId, outputId) {\n",
              "  const inputElement = document.getElementById(inputId);\n",
              "  inputElement.disabled = false;\n",
              "\n",
              "  const outputElement = document.getElementById(outputId);\n",
              "  outputElement.innerHTML = '';\n",
              "\n",
              "  const pickedPromise = new Promise((resolve) => {\n",
              "    inputElement.addEventListener('change', (e) => {\n",
              "      resolve(e.target.files);\n",
              "    });\n",
              "  });\n",
              "\n",
              "  const cancel = document.createElement('button');\n",
              "  inputElement.parentElement.appendChild(cancel);\n",
              "  cancel.textContent = 'Cancel upload';\n",
              "  const cancelPromise = new Promise((resolve) => {\n",
              "    cancel.onclick = () => {\n",
              "      resolve(null);\n",
              "    };\n",
              "  });\n",
              "\n",
              "  // Wait for the user to pick the files.\n",
              "  const files = yield {\n",
              "    promise: Promise.race([pickedPromise, cancelPromise]),\n",
              "    response: {\n",
              "      action: 'starting',\n",
              "    }\n",
              "  };\n",
              "\n",
              "  cancel.remove();\n",
              "\n",
              "  // Disable the input element since further picks are not allowed.\n",
              "  inputElement.disabled = true;\n",
              "\n",
              "  if (!files) {\n",
              "    return {\n",
              "      response: {\n",
              "        action: 'complete',\n",
              "      }\n",
              "    };\n",
              "  }\n",
              "\n",
              "  for (const file of files) {\n",
              "    const li = document.createElement('li');\n",
              "    li.append(span(file.name, {fontWeight: 'bold'}));\n",
              "    li.append(span(\n",
              "        `(${file.type || 'n/a'}) - ${file.size} bytes, ` +\n",
              "        `last modified: ${\n",
              "            file.lastModifiedDate ? file.lastModifiedDate.toLocaleDateString() :\n",
              "                                    'n/a'} - `));\n",
              "    const percent = span('0% done');\n",
              "    li.appendChild(percent);\n",
              "\n",
              "    outputElement.appendChild(li);\n",
              "\n",
              "    const fileDataPromise = new Promise((resolve) => {\n",
              "      const reader = new FileReader();\n",
              "      reader.onload = (e) => {\n",
              "        resolve(e.target.result);\n",
              "      };\n",
              "      reader.readAsArrayBuffer(file);\n",
              "    });\n",
              "    // Wait for the data to be ready.\n",
              "    let fileData = yield {\n",
              "      promise: fileDataPromise,\n",
              "      response: {\n",
              "        action: 'continue',\n",
              "      }\n",
              "    };\n",
              "\n",
              "    // Use a chunked sending to avoid message size limits. See b/62115660.\n",
              "    let position = 0;\n",
              "    do {\n",
              "      const length = Math.min(fileData.byteLength - position, MAX_PAYLOAD_SIZE);\n",
              "      const chunk = new Uint8Array(fileData, position, length);\n",
              "      position += length;\n",
              "\n",
              "      const base64 = btoa(String.fromCharCode.apply(null, chunk));\n",
              "      yield {\n",
              "        response: {\n",
              "          action: 'append',\n",
              "          file: file.name,\n",
              "          data: base64,\n",
              "        },\n",
              "      };\n",
              "\n",
              "      let percentDone = fileData.byteLength === 0 ?\n",
              "          100 :\n",
              "          Math.round((position / fileData.byteLength) * 100);\n",
              "      percent.textContent = `${percentDone}% done`;\n",
              "\n",
              "    } while (position < fileData.byteLength);\n",
              "  }\n",
              "\n",
              "  // All done.\n",
              "  yield {\n",
              "    response: {\n",
              "      action: 'complete',\n",
              "    }\n",
              "  };\n",
              "}\n",
              "\n",
              "scope.google = scope.google || {};\n",
              "scope.google.colab = scope.google.colab || {};\n",
              "scope.google.colab._files = {\n",
              "  _uploadFiles,\n",
              "  _uploadFilesContinue,\n",
              "};\n",
              "})(self);\n",
              "</script> "
            ]
          },
          "metadata": {}
        },
        {
          "output_type": "stream",
          "name": "stdout",
          "text": [
            "Saving BostonHousing.csv to BostonHousing (1).csv\n"
          ]
        },
        {
          "output_type": "execute_result",
          "data": {
            "text/plain": [
              "['crim',\n",
              " 'zn',\n",
              " 'indus',\n",
              " 'chas',\n",
              " 'nox',\n",
              " 'rm',\n",
              " 'age',\n",
              " 'dis',\n",
              " 'rad',\n",
              " 'tax',\n",
              " 'ptratio',\n",
              " 'b',\n",
              " 'lstat',\n",
              " 'medv']"
            ]
          },
          "metadata": {},
          "execution_count": 7
        }
      ]
    },
    {
      "cell_type": "code",
      "source": [
        "inputCols = [\n",
        " 'crim',\n",
        " 'zn',\n",
        " 'indus',\n",
        " 'chas',\n",
        " 'nox',\n",
        " 'rm',\n",
        " 'age',\n",
        " 'dis',\n",
        " 'rad',\n",
        " 'tax',\n",
        " 'ptratio',\n",
        " 'b',\n",
        " 'lstat'\n",
        "]\n",
        "\n",
        "only_features= ['crim','zn','indus','chas','nox','rm','age','dis','rad','tax','ptratio','b','lstat']\n",
        "assembler= VectorAssembler(inputCols=only_features,outputCol='features')"
      ],
      "metadata": {
        "id": "EDWx0nCpDjwK"
      },
      "execution_count": 8,
      "outputs": []
    },
    {
      "cell_type": "code",
      "source": [
        "from pyspark.ml.feature import VectorAssembler\n",
        "from pyspark.ml.regression import LinearRegression\n",
        "from pyspark.ml.feature import VectorAssembler,StandardScaler,PCA\n",
        "import numpy as np\n",
        "import pandas as pd\n",
        "import matplotlib.pyplot as plt\n",
        "\n",
        "feat_df=assembler.transform(df).select('features')"
      ],
      "metadata": {
        "id": "uYVamHKMDwll"
      },
      "execution_count": 9,
      "outputs": []
    },
    {
      "cell_type": "code",
      "source": [
        "scaler= StandardScaler(inputCol='features',outputCol='scaledFeature',withMean=True,withStd=True).fit(feat_df)\n",
        "df_scaled=scaler.transform(feat_df)\n",
        "df_scaled.show(5)\n",
        "\n",
        "n_components=2\n",
        "pca=PCA(k=n_components,inputCol='scaledFeature',outputCol='pcafeatures').fit(df_scaled)\n",
        "\n",
        "df_pca=pca.transform(df_scaled)\n",
        "print('explained variance Ratio',pca.explainedVariance.toArray())\n",
        "df_pca.show(5)\n",
        "\n",
        "X_pca=df_pca.rdd.map(lambda row:row.pcafeatures).collect()\n",
        "X_pca=np.array(X_pca)\n",
        "\n",
        "X_pca"
      ],
      "metadata": {
        "colab": {
          "base_uri": "https://localhost:8080/"
        },
        "id": "mrYdVicmD4SG",
        "outputId": "71ccd86b-8006-421d-ea4d-95e55b9e0e82"
      },
      "execution_count": 10,
      "outputs": [
        {
          "output_type": "stream",
          "name": "stdout",
          "text": [
            "+--------------------+--------------------+\n",
            "|            features|       scaledFeature|\n",
            "+--------------------+--------------------+\n",
            "|[0.00632,18.0,2.3...|[-0.4193669292132...|\n",
            "|[0.02731,0.0,7.07...|[-0.4169266699640...|\n",
            "|[0.02729,0.0,7.07...|[-0.4169289951277...|\n",
            "|[0.03237,0.0,2.18...|[-0.4163384035610...|\n",
            "|[0.06905,0.0,2.18...|[-0.4120740534296...|\n",
            "+--------------------+--------------------+\n",
            "only showing top 5 rows\n",
            "\n",
            "explained variance Ratio [0.47129606 0.11025193]\n",
            "+--------------------+--------------------+--------------------+\n",
            "|            features|       scaledFeature|         pcafeatures|\n",
            "+--------------------+--------------------+--------------------+\n",
            "|[0.00632,18.0,2.3...|[-0.4193669292132...|[2.09622303023858...|\n",
            "|[0.02731,0.0,7.07...|[-0.4169266699640...|[1.45581098944742...|\n",
            "|[0.02729,0.0,7.07...|[-0.4169289951277...|[2.07254655194818...|\n",
            "|[0.03237,0.0,2.18...|[-0.4163384035610...|[2.60892175886434...|\n",
            "|[0.06905,0.0,2.18...|[-0.4120740534296...|[2.45575477193107...|\n",
            "+--------------------+--------------------+--------------------+\n",
            "only showing top 5 rows\n",
            "\n"
          ]
        },
        {
          "output_type": "execute_result",
          "data": {
            "text/plain": [
              "array([[2.09622303, 0.77234843],\n",
              "       [1.45581099, 0.59139995],\n",
              "       [2.07254655, 0.59904658],\n",
              "       ...,\n",
              "       [0.31205166, 1.15410433],\n",
              "       [0.27025162, 1.04033206],\n",
              "       [0.12567884, 0.76122473]])"
            ]
          },
          "metadata": {},
          "execution_count": 10
        }
      ]
    },
    {
      "cell_type": "code",
      "source": [
        "df_pca=pd.DataFrame(X_pca, columns=['PC1','PC2'])\n",
        "df_pca.head()\n",
        "\n",
        "plt.rcParams['figure.figsize']=8,6\n",
        "plt.rcParams['font.size']=14\n",
        "ax1=df_pca.plot.scatter(x='PC1',y='PC2',c='Black')\n",
        "\n",
        "output=assembler.transform(df)\n",
        "f_data=output.select('features','medv')\n",
        "f_data.show(5)"
      ],
      "metadata": {
        "colab": {
          "base_uri": "https://localhost:8080/",
          "height": 587
        },
        "id": "0o57qOTWEFP3",
        "outputId": "c5635ad4-b027-4215-f034-a45b26a7a14f"
      },
      "execution_count": 12,
      "outputs": [
        {
          "output_type": "stream",
          "name": "stdout",
          "text": [
            "+--------------------+----+\n",
            "|            features|medv|\n",
            "+--------------------+----+\n",
            "|[0.00632,18.0,2.3...|24.0|\n",
            "|[0.02731,0.0,7.07...|21.6|\n",
            "|[0.02729,0.0,7.07...|34.7|\n",
            "|[0.03237,0.0,2.18...|33.4|\n",
            "|[0.06905,0.0,2.18...|36.2|\n",
            "+--------------------+----+\n",
            "only showing top 5 rows\n",
            "\n"
          ]
        },
        {
          "output_type": "display_data",
          "data": {
            "text/plain": [
              "<Figure size 576x432 with 1 Axes>"
            ],
            "image/png": "[encoded data removed]"
          },
          "metadata": {
            "needs_background": "light"
          }
        }
      ]
    },
    {
      "cell_type": "code",
      "source": [
        "train_data,test_data= f_data.randomSplit([0.90,0.1])\n"
      ],
      "metadata": {
        "id": "AsApWiLEEQw-"
      },
      "execution_count": 13,
      "outputs": []
    },
    {
      "cell_type": "code",
      "source": [
        "regressor=LinearRegression(featuresCol='features',labelCol='medv')\n",
        "regressor=regressor.fit(train_data)"
      ],
      "metadata": {
        "id": "7ReRhbvHEUJB"
      },
      "execution_count": 14,
      "outputs": []
    },
    {
      "cell_type": "code",
      "source": [
        "coeff=regressor.coefficients\n",
        "intr=regressor.intercept\n",
        "print(\"The coefficient of the model is found to be:\", coeff)\n",
        "print(\"The intercept of the model is found to be:\", intr)\n",
        "\n",
        "print(\"The coefficient of the model is found to be: %a\" %coeff)\n",
        "print(\"The intercept of the model is found to be: %f\" %intr)\n"
      ],
      "metadata": {
        "colab": {
          "base_uri": "https://localhost:8080/"
        },
        "id": "2krbD3n2EbKK",
        "outputId": "b9df8b4a-4166-4dc8-e2ff-dc572dc2fd8a"
      },
      "execution_count": 15,
      "outputs": [
        {
          "output_type": "stream",
          "name": "stdout",
          "text": [
            "The coefficient of the model is found to be: [-0.11021017721196674,0.046824878221273604,0.009362944054249938,2.7621315913073907,-17.477247006822218,3.5661325284834557,0.0025652425787599928,-1.4711636187231412,0.34097754405667347,-0.013089739909902405,-0.9494160084153739,0.00936486146050103,-0.5507736081625685]\n",
            "The intercept of the model is found to be: 38.05086074121683\n",
            "The coefficient of the model is found to be: DenseVector([-0.1102, 0.0468, 0.0094, 2.7621, -17.4772, 3.5661, 0.0026, -1.4712, 0.341, -0.0131, -0.9494, 0.0094, -0.5508])\n",
            "The intercept of the model is found to be: 38.050861\n"
          ]
        }
      ]
    },
    {
      "cell_type": "code",
      "source": [
        "pred = regressor.evaluate(test_data)\n",
        "pred.predictions.show(5)"
      ],
      "metadata": {
        "colab": {
          "base_uri": "https://localhost:8080/"
        },
        "id": "X1G3DCReEgoI",
        "outputId": "c42ffba5-fc11-412f-eac2-5444b1757d20"
      },
      "execution_count": 16,
      "outputs": [
        {
          "output_type": "stream",
          "name": "stdout",
          "text": [
            "+--------------------+----+------------------+\n",
            "|            features|medv|        prediction|\n",
            "+--------------------+----+------------------+\n",
            "|[0.01096,55.0,2.2...|22.0|27.242911174625192|\n",
            "|[0.02055,85.0,0.7...|24.7| 24.90662744798008|\n",
            "|[0.02731,0.0,7.07...|21.6| 25.00781167902811|\n",
            "|[0.03041,0.0,5.19...|18.5|19.485730976327922|\n",
            "|[0.0315,95.0,1.47...|34.9|29.945975399536923|\n",
            "+--------------------+----+------------------+\n",
            "only showing top 5 rows\n",
            "\n"
          ]
        }
      ]
    },
    {
      "cell_type": "code",
      "source": [
        "from pyspark.ml.evaluation import RegressionEvaluator\n",
        "eval=RegressionEvaluator(labelCol='medv',predictionCol='prediction',metricName='rmse')"
      ],
      "metadata": {
        "id": "Y7TSjP-9EmWF"
      },
      "execution_count": 17,
      "outputs": []
    },
    {
      "cell_type": "code",
      "source": [
        "rmse=eval.evaluate(pred.predictions)\n",
        "print(\"RMSE : %.3f\" %rmse)\n",
        "\n",
        "mse=eval.evaluate(pred.predictions,{eval.metricName:\"mse\"})\n",
        "print(\"MSE : %.3f\" %mse)\n",
        "\n",
        "mae=eval.evaluate(pred.predictions,{eval.metricName:\"mae\"})\n",
        "print(\"MAE : %.3f\" % mae)\n",
        "\n",
        "r2=eval.evaluate(pred.predictions,{eval.metricName:\"r2\"})\n",
        "print(\"r2 : %.3f\" %r2)"
      ],
      "metadata": {
        "colab": {
          "base_uri": "https://localhost:8080/"
        },
        "id": "DC-AUL6GEpmK",
        "outputId": "5f1c463d-2d3f-4294-ad22-e40333fba2d7"
      },
      "execution_count": 18,
      "outputs": [
        {
          "output_type": "stream",
          "name": "stdout",
          "text": [
            "RMSE : 4.163\n",
            "MSE : 17.332\n",
            "MAE : 2.998\n",
            "r2 : 0.802\n"
          ]
        }
      ]
    }
  ]
}